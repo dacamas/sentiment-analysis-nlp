{
 "cells": [
  {
   "cell_type": "code",
   "execution_count": 9,
   "id": "e040c06f",
   "metadata": {},
   "outputs": [
    {
     "name": "stdout",
     "output_type": "stream",
     "text": [
      "PROGRESS: Creating a validation set from 5 percent of training data. This may take a while.\n",
      "          You can set ``validation_set=None`` to disable validation tracking.\n",
      "\n"
     ]
    },
    {
     "data": {
      "text/html": [
       "<pre>Logistic regression:</pre>"
      ],
      "text/plain": [
       "Logistic regression:"
      ]
     },
     "metadata": {},
     "output_type": "display_data"
    },
    {
     "data": {
      "text/html": [
       "<pre>--------------------------------------------------------</pre>"
      ],
      "text/plain": [
       "--------------------------------------------------------"
      ]
     },
     "metadata": {},
     "output_type": "display_data"
    },
    {
     "data": {
      "text/html": [
       "<pre>Number of examples          : 40204</pre>"
      ],
      "text/plain": [
       "Number of examples          : 40204"
      ]
     },
     "metadata": {},
     "output_type": "display_data"
    },
    {
     "data": {
      "text/html": [
       "<pre>Number of classes           : 2</pre>"
      ],
      "text/plain": [
       "Number of classes           : 2"
      ]
     },
     "metadata": {},
     "output_type": "display_data"
    },
    {
     "data": {
      "text/html": [
       "<pre>Number of feature columns   : 1</pre>"
      ],
      "text/plain": [
       "Number of feature columns   : 1"
      ]
     },
     "metadata": {},
     "output_type": "display_data"
    },
    {
     "data": {
      "text/html": [
       "<pre>Number of unpacked features : 33791</pre>"
      ],
      "text/plain": [
       "Number of unpacked features : 33791"
      ]
     },
     "metadata": {},
     "output_type": "display_data"
    },
    {
     "data": {
      "text/html": [
       "<pre>Number of coefficients      : 33792</pre>"
      ],
      "text/plain": [
       "Number of coefficients      : 33792"
      ]
     },
     "metadata": {},
     "output_type": "display_data"
    },
    {
     "data": {
      "text/html": [
       "<pre>Starting L-BFGS</pre>"
      ],
      "text/plain": [
       "Starting L-BFGS"
      ]
     },
     "metadata": {},
     "output_type": "display_data"
    },
    {
     "data": {
      "text/html": [
       "<pre>--------------------------------------------------------</pre>"
      ],
      "text/plain": [
       "--------------------------------------------------------"
      ]
     },
     "metadata": {},
     "output_type": "display_data"
    },
    {
     "data": {
      "text/html": [
       "<pre>+-----------+----------+-----------+--------------+-------------------+---------------------+</pre>"
      ],
      "text/plain": [
       "+-----------+----------+-----------+--------------+-------------------+---------------------+"
      ]
     },
     "metadata": {},
     "output_type": "display_data"
    },
    {
     "data": {
      "text/html": [
       "<pre>| Iteration | Passes   | Step size | Elapsed Time | Training Accuracy | Validation Accuracy |</pre>"
      ],
      "text/plain": [
       "| Iteration | Passes   | Step size | Elapsed Time | Training Accuracy | Validation Accuracy |"
      ]
     },
     "metadata": {},
     "output_type": "display_data"
    },
    {
     "data": {
      "text/html": [
       "<pre>+-----------+----------+-----------+--------------+-------------------+---------------------+</pre>"
      ],
      "text/plain": [
       "+-----------+----------+-----------+--------------+-------------------+---------------------+"
      ]
     },
     "metadata": {},
     "output_type": "display_data"
    },
    {
     "data": {
      "text/html": [
       "<pre>| 0         | 2        | 1.000000  | 0.102123     | 0.796737          | 0.748229            |</pre>"
      ],
      "text/plain": [
       "| 0         | 2        | 1.000000  | 0.102123     | 0.796737          | 0.748229            |"
      ]
     },
     "metadata": {},
     "output_type": "display_data"
    },
    {
     "data": {
      "text/html": [
       "<pre>| 1         | 4        | 1.000000  | 0.207735     | 0.914113          | 0.852622            |</pre>"
      ],
      "text/plain": [
       "| 1         | 4        | 1.000000  | 0.207735     | 0.914113          | 0.852622            |"
      ]
     },
     "metadata": {},
     "output_type": "display_data"
    },
    {
     "data": {
      "text/html": [
       "<pre>| 2         | 5        | 1.000000  | 0.276831     | 0.919759          | 0.854039            |</pre>"
      ],
      "text/plain": [
       "| 2         | 5        | 1.000000  | 0.276831     | 0.919759          | 0.854039            |"
      ]
     },
     "metadata": {},
     "output_type": "display_data"
    },
    {
     "data": {
      "text/html": [
       "<pre>| 3         | 7        | 1.000000  | 0.381787     | 0.953811          | 0.871516            |</pre>"
      ],
      "text/plain": [
       "| 3         | 7        | 1.000000  | 0.381787     | 0.953811          | 0.871516            |"
      ]
     },
     "metadata": {},
     "output_type": "display_data"
    },
    {
     "data": {
      "text/html": [
       "<pre>| 4         | 8        | 1.000000  | 0.448655     | 0.966570          | 0.867737            |</pre>"
      ],
      "text/plain": [
       "| 4         | 8        | 1.000000  | 0.448655     | 0.966570          | 0.867737            |"
      ]
     },
     "metadata": {},
     "output_type": "display_data"
    },
    {
     "data": {
      "text/html": [
       "<pre>| 9         | 13       | 1.000000  | 0.801064     | 0.990946          | 0.858762            |</pre>"
      ],
      "text/plain": [
       "| 9         | 13       | 1.000000  | 0.801064     | 0.990946          | 0.858762            |"
      ]
     },
     "metadata": {},
     "output_type": "display_data"
    },
    {
     "data": {
      "text/html": [
       "<pre>+-----------+----------+-----------+--------------+-------------------+---------------------+</pre>"
      ],
      "text/plain": [
       "+-----------+----------+-----------+--------------+-------------------+---------------------+"
      ]
     },
     "metadata": {},
     "output_type": "display_data"
    },
    {
     "name": "stdout",
     "output_type": "stream",
     "text": [
      "Model evaluation results: {'accuracy': 0.86066412426751, 'auc': 0.9063182362580627, 'confusion_matrix': Columns:\n",
      "\ttarget_label\tint\n",
      "\tpredicted_label\tint\n",
      "\tcount\tint\n",
      "\n",
      "Rows: 4\n",
      "\n",
      "Data:\n",
      "+--------------+-----------------+-------+\n",
      "| target_label | predicted_label | count |\n",
      "+--------------+-----------------+-------+\n",
      "|      1       |        1        |  4639 |\n",
      "|      1       |        -1       |  728  |\n",
      "|      -1      |        -1       |  4614 |\n",
      "|      -1      |        1        |  770  |\n",
      "+--------------+-----------------+-------+\n",
      "[4 rows x 3 columns]\n",
      ", 'f1_score': 0.8609873793615442, 'log_loss': 0.8461981527245472, 'precision': 0.8576446662969126, 'recall': 0.864356251164524, 'roc_curve': Columns:\n",
      "\tthreshold\tfloat\n",
      "\tfpr\tfloat\n",
      "\ttpr\tfloat\n",
      "\tp\tint\n",
      "\tn\tint\n",
      "\n",
      "Rows: 1001\n",
      "\n",
      "Data:\n",
      "+-----------+---------------------+--------------------+------+------+\n",
      "| threshold |         fpr         |        tpr         |  p   |  n   |\n",
      "+-----------+---------------------+--------------------+------+------+\n",
      "|    0.0    |         1.0         |        1.0         | 5367 | 5384 |\n",
      "|   0.001   | 0.40583209509658247 | 0.9580771380659586 | 5367 | 5384 |\n",
      "|   0.002   | 0.37815750371471024 | 0.9524874231414198 | 5367 | 5384 |\n",
      "|   0.003   | 0.36181277860326894 | 0.9502515371716043 | 5367 | 5384 |\n",
      "|   0.004   | 0.34546805349182763 | 0.9472703558785168 | 5367 | 5384 |\n",
      "|   0.005   |  0.336924219910847  | 0.9454071175703372 | 5367 | 5384 |\n",
      "|   0.006   |  0.3300520059435364 | 0.9450344699087013 | 5367 | 5384 |\n",
      "|   0.007   | 0.32317979197622587 | 0.9435438792621577 | 5367 | 5384 |\n",
      "|   0.008   |  0.3176077265973254 | 0.941307993292342  | 5367 | 5384 |\n",
      "|   0.009   | 0.31445022288261515 | 0.9411216694615241 | 5367 | 5384 |\n",
      "+-----------+---------------------+--------------------+------+------+\n",
      "[1001 rows x 5 columns]\n",
      "Note: Only the head of the SFrame is printed.\n",
      "You can use print_rows(num_rows=m, num_columns=n) to print more rows and columns.}\n",
      "Accuracy: 86.066412426751%\n"
     ]
    }
   ],
   "source": [
    "import turicreate as tc\n",
    "\n",
    "data = tc.SFrame('/root/amazon_baby_subset.sframe')\n",
    "\n",
    "data['text'] = tc.text_analytics.count_words(data['review'])\n",
    "\n",
    "train_data, test_data = data.random_split(0.8, seed=42)\n",
    "\n",
    "train_features = train_data['text']\n",
    "train_target = train_data['sentiment']\n",
    "test_features = test_data['text']\n",
    "test_target = test_data['sentiment']\n",
    "\n",
    "model = tc.logistic_classifier.create(train_data, target='sentiment', features=['text'])\n",
    "\n",
    "results = model.evaluate(test_data)\n",
    "\n",
    "print(f\"Model evaluation results: {results}\")\n",
    "\n",
    "predictions = model.predict(test_data)\n",
    "\n",
    "accuracy = (predictions == test_target).sum() / len(test_target)\n",
    "print(f\"Accuracy: {accuracy * 100}%\")\n"
   ]
  },
  {
   "cell_type": "code",
   "execution_count": null,
   "id": "6f13207e",
   "metadata": {},
   "outputs": [],
   "source": []
  }
 ],
 "metadata": {
  "kernelspec": {
   "display_name": "Python3.7 (TuriCreate)",
   "language": "python",
   "name": "turicreate_env"
  },
  "language_info": {
   "codemirror_mode": {
    "name": "ipython",
    "version": 3
   },
   "file_extension": ".py",
   "mimetype": "text/x-python",
   "name": "python",
   "nbconvert_exporter": "python",
   "pygments_lexer": "ipython3",
   "version": "3.7.17"
  }
 },
 "nbformat": 4,
 "nbformat_minor": 5
}
