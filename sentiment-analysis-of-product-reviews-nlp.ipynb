{
 "cells": [
  {
   "cell_type": "code",
   "execution_count": 7,
   "id": "e040c06f",
   "metadata": {},
   "outputs": [
    {
     "name": "stdout",
     "output_type": "stream",
     "text": [
      "PROGRESS: Creating a validation set from 5 percent of training data. This may take a while.\n",
      "          You can set ``validation_set=None`` to disable validation tracking.\n",
      "\n"
     ]
    },
    {
     "data": {
      "text/html": [
       "<pre>Logistic regression:</pre>"
      ],
      "text/plain": [
       "Logistic regression:"
      ]
     },
     "metadata": {},
     "output_type": "display_data"
    },
    {
     "data": {
      "text/html": [
       "<pre>--------------------------------------------------------</pre>"
      ],
      "text/plain": [
       "--------------------------------------------------------"
      ]
     },
     "metadata": {},
     "output_type": "display_data"
    },
    {
     "data": {
      "text/html": [
       "<pre>Number of examples          : 40204</pre>"
      ],
      "text/plain": [
       "Number of examples          : 40204"
      ]
     },
     "metadata": {},
     "output_type": "display_data"
    },
    {
     "data": {
      "text/html": [
       "<pre>Number of classes           : 2</pre>"
      ],
      "text/plain": [
       "Number of classes           : 2"
      ]
     },
     "metadata": {},
     "output_type": "display_data"
    },
    {
     "data": {
      "text/html": [
       "<pre>Number of feature columns   : 1</pre>"
      ],
      "text/plain": [
       "Number of feature columns   : 1"
      ]
     },
     "metadata": {},
     "output_type": "display_data"
    },
    {
     "data": {
      "text/html": [
       "<pre>Number of unpacked features : 33669</pre>"
      ],
      "text/plain": [
       "Number of unpacked features : 33669"
      ]
     },
     "metadata": {},
     "output_type": "display_data"
    },
    {
     "data": {
      "text/html": [
       "<pre>Number of coefficients      : 33670</pre>"
      ],
      "text/plain": [
       "Number of coefficients      : 33670"
      ]
     },
     "metadata": {},
     "output_type": "display_data"
    },
    {
     "data": {
      "text/html": [
       "<pre>Starting L-BFGS</pre>"
      ],
      "text/plain": [
       "Starting L-BFGS"
      ]
     },
     "metadata": {},
     "output_type": "display_data"
    },
    {
     "data": {
      "text/html": [
       "<pre>--------------------------------------------------------</pre>"
      ],
      "text/plain": [
       "--------------------------------------------------------"
      ]
     },
     "metadata": {},
     "output_type": "display_data"
    },
    {
     "data": {
      "text/html": [
       "<pre>+-----------+----------+-----------+--------------+-------------------+---------------------+</pre>"
      ],
      "text/plain": [
       "+-----------+----------+-----------+--------------+-------------------+---------------------+"
      ]
     },
     "metadata": {},
     "output_type": "display_data"
    },
    {
     "data": {
      "text/html": [
       "<pre>| Iteration | Passes   | Step size | Elapsed Time | Training Accuracy | Validation Accuracy |</pre>"
      ],
      "text/plain": [
       "| Iteration | Passes   | Step size | Elapsed Time | Training Accuracy | Validation Accuracy |"
      ]
     },
     "metadata": {},
     "output_type": "display_data"
    },
    {
     "data": {
      "text/html": [
       "<pre>+-----------+----------+-----------+--------------+-------------------+---------------------+</pre>"
      ],
      "text/plain": [
       "+-----------+----------+-----------+--------------+-------------------+---------------------+"
      ]
     },
     "metadata": {},
     "output_type": "display_data"
    },
    {
     "data": {
      "text/html": [
       "<pre>| 0         | 2        | 1.000000  | 0.171515     | 0.791986          | 0.743977            |</pre>"
      ],
      "text/plain": [
       "| 0         | 2        | 1.000000  | 0.171515     | 0.791986          | 0.743977            |"
      ]
     },
     "metadata": {},
     "output_type": "display_data"
    },
    {
     "data": {
      "text/html": [
       "<pre>| 1         | 4        | 1.000000  | 0.311794     | 0.913491          | 0.869627            |</pre>"
      ],
      "text/plain": [
       "| 1         | 4        | 1.000000  | 0.311794     | 0.913491          | 0.869627            |"
      ]
     },
     "metadata": {},
     "output_type": "display_data"
    },
    {
     "data": {
      "text/html": [
       "<pre>| 2         | 5        | 1.000000  | 0.406923     | 0.919386          | 0.871516            |</pre>"
      ],
      "text/plain": [
       "| 2         | 5        | 1.000000  | 0.406923     | 0.919386          | 0.871516            |"
      ]
     },
     "metadata": {},
     "output_type": "display_data"
    },
    {
     "data": {
      "text/html": [
       "<pre>| 3         | 7        | 1.000000  | 0.550404     | 0.948911          | 0.876712            |</pre>"
      ],
      "text/plain": [
       "| 3         | 7        | 1.000000  | 0.550404     | 0.948911          | 0.876712            |"
      ]
     },
     "metadata": {},
     "output_type": "display_data"
    },
    {
     "data": {
      "text/html": [
       "<pre>| 4         | 8        | 1.000000  | 0.642056     | 0.963412          | 0.878129            |</pre>"
      ],
      "text/plain": [
       "| 4         | 8        | 1.000000  | 0.642056     | 0.963412          | 0.878129            |"
      ]
     },
     "metadata": {},
     "output_type": "display_data"
    },
    {
     "data": {
      "text/html": [
       "<pre>| 9         | 13       | 1.000000  | 1.095852     | 0.989205          | 0.859707            |</pre>"
      ],
      "text/plain": [
       "| 9         | 13       | 1.000000  | 1.095852     | 0.989205          | 0.859707            |"
      ]
     },
     "metadata": {},
     "output_type": "display_data"
    },
    {
     "data": {
      "text/html": [
       "<pre>+-----------+----------+-----------+--------------+-------------------+---------------------+</pre>"
      ],
      "text/plain": [
       "+-----------+----------+-----------+--------------+-------------------+---------------------+"
      ]
     },
     "metadata": {},
     "output_type": "display_data"
    },
    {
     "name": "stdout",
     "output_type": "stream",
     "text": [
      "Model evaluation results: {'accuracy': 0.861966328713608, 'auc': 0.9078722787515242, 'confusion_matrix': Columns:\n",
      "\ttarget_label\tint\n",
      "\tpredicted_label\tint\n",
      "\tcount\tint\n",
      "\n",
      "Rows: 4\n",
      "\n",
      "Data:\n",
      "+--------------+-----------------+-------+\n",
      "| target_label | predicted_label | count |\n",
      "+--------------+-----------------+-------+\n",
      "|      1       |        1        |  4664 |\n",
      "|      1       |        -1       |  703  |\n",
      "|      -1      |        -1       |  4603 |\n",
      "|      -1      |        1        |  781  |\n",
      "+--------------+-----------------+-------+\n",
      "[4 rows x 3 columns]\n",
      ", 'f1_score': 0.8627450980392157, 'log_loss': 0.7911499167914882, 'precision': 0.8565656565656565, 'recall': 0.869014346934973, 'roc_curve': Columns:\n",
      "\tthreshold\tfloat\n",
      "\tfpr\tfloat\n",
      "\ttpr\tfloat\n",
      "\tp\tint\n",
      "\tn\tint\n",
      "\n",
      "Rows: 1001\n",
      "\n",
      "Data:\n",
      "+-----------+---------------------+--------------------+------+------+\n",
      "| threshold |         fpr         |        tpr         |  p   |  n   |\n",
      "+-----------+---------------------+--------------------+------+------+\n",
      "|    0.0    |         1.0         |        1.0         | 5367 | 5384 |\n",
      "|   0.001   |  0.4427934621099554 | 0.9649711198062232 | 5367 | 5384 |\n",
      "|   0.002   | 0.40713224368499257 | 0.9597540525433202 | 5367 | 5384 |\n",
      "|   0.003   |  0.3911589895988113 | 0.9575181665735047 | 5367 | 5384 |\n",
      "|   0.004   | 0.37704309063893016 | 0.9560275759269611 | 5367 | 5384 |\n",
      "|   0.005   |  0.3640416047548291 | 0.9539780137879634 | 5367 | 5384 |\n",
      "|   0.006   |  0.3558692421991085 | 0.9526737469722377 | 5367 | 5384 |\n",
      "|   0.007   |  0.3489970282317979 |  0.95155580398733  | 5367 | 5384 |\n",
      "|   0.008   | 0.34305349182763745 | 0.9506241848332402 | 5367 | 5384 |\n",
      "|   0.009   | 0.33785289747399705 | 0.9493199180175145 | 5367 | 5384 |\n",
      "+-----------+---------------------+--------------------+------+------+\n",
      "[1001 rows x 5 columns]\n",
      "Note: Only the head of the SFrame is printed.\n",
      "You can use print_rows(num_rows=m, num_columns=n) to print more rows and columns.}\n",
      "Accuracy: 86.1966328713608%\n"
     ]
    }
   ],
   "source": [
    "import turicreate as tc\n",
    "\n",
    "# Step 1: Load the dataset\n",
    "data = tc.SFrame('/root/amazon_baby_subset.sframe')\n",
    "\n",
    "# Step 2: Convert the 'review' column into word counts (feature extraction)\n",
    "data['text'] = tc.text_analytics.count_words(data['review'])\n",
    "\n",
    "# Step 3: Split the dataset into training and test sets\n",
    "train_data, test_data = data.random_split(0.8, seed=42)\n",
    "\n",
    "# Step 4: Prepare the feature matrix (X) and target vector (y)\n",
    "train_features = train_data['text']\n",
    "train_target = train_data['sentiment']\n",
    "test_features = test_data['text']\n",
    "test_target = test_data['sentiment']\n",
    "\n",
    "# Step 5: Train a logistic regression model\n",
    "model = tc.logistic_classifier.create(train_data, target='sentiment', features=['text'])\n",
    "\n",
    "# Step 6: Evaluate the model on the test data\n",
    "results = model.evaluate(test_data)\n",
    "\n",
    "# Step 7: Display the evaluation results\n",
    "print(f\"Model evaluation results: {results}\")\n",
    "\n",
    "# Step 8: Predict sentiment using the trained model\n",
    "predictions = model.predict(test_data)\n",
    "\n",
    "# Step 9: Compute accuracy\n",
    "accuracy = (predictions == test_target).sum() / len(test_target)\n",
    "print(f\"Accuracy: {accuracy * 100}%\")\n"
   ]
  },
  {
   "cell_type": "code",
   "execution_count": null,
   "id": "6f13207e",
   "metadata": {},
   "outputs": [],
   "source": []
  }
 ],
 "metadata": {
  "kernelspec": {
   "display_name": "Python3.7 (TuriCreate)",
   "language": "python",
   "name": "turicreate_env"
  },
  "language_info": {
   "codemirror_mode": {
    "name": "ipython",
    "version": 3
   },
   "file_extension": ".py",
   "mimetype": "text/x-python",
   "name": "python",
   "nbconvert_exporter": "python",
   "pygments_lexer": "ipython3",
   "version": "3.7.17"
  }
 },
 "nbformat": 4,
 "nbformat_minor": 5
}
